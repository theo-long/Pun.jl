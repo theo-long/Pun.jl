{
 "cells": [
  {
   "cell_type": "code",
   "execution_count": null,
   "id": "14d7b952",
   "metadata": {},
   "outputs": [],
   "source": [
    "1"
   ]
  },
  {
   "cell_type": "code",
   "execution_count": null,
   "id": "349d6a2e",
   "metadata": {},
   "outputs": [],
   "source": [
    "using Pkg\n",
    "Pkg.activate(\"..\")\n",
    "using Pun\n",
    "using Plots\n",
    "\n",
    "include(\"../examples.jl\")"
   ]
  },
  {
   "cell_type": "code",
   "execution_count": null,
   "id": "d5ddedd7",
   "metadata": {},
   "outputs": [],
   "source": [
    "struct LinearModel\n",
    "    slope::Real\n",
    "    intercept::Real\n",
    "end\n",
    "\n",
    "linear_model_prior() = @prob begin\n",
    "    slope <<= normal(0, 1)\n",
    "    intercept <<= normal(0, 2)\n",
    "    return LinearModel(slope, intercept)\n",
    "end\n",
    "\n",
    "bayesian_linear_regression(xs::Vector{Float64}) = @prob begin\n",
    "    linear_model <<= linear_model_prior()\n",
    "    \n",
    "    # Given the slope and intercept, we can sample y coordinates\n",
    "    # for each of the x coordinates in our input vector.\n",
    "    y <<= mapM(x -> normal(linear_model.slope * x + linear_model.intercept, 0.1), xs)\n",
    "    linear_model >>= @prob begin\n",
    "        slope <<= normal(inv(transpose(xs) * xs) * (transpose(xs) * y), 1)\n",
    "        intercept <<= normal(0, 2)\n",
    "        return LinearModel(slope, intercept)\n",
    "    end\n",
    "    return y\n",
    "end"
   ]
  },
  {
   "cell_type": "code",
   "execution_count": null,
   "id": "09451219",
   "metadata": {},
   "outputs": [],
   "source": [
    "xs = [-5., -4., -3., -2., -1., 0., 1., 2., 3., 4., 5.]\n",
    "y = [dual.value for dual in simulate(bayesian_linear_regression(xs))[1]]\n",
    "\n",
    "plot(xs, y, seriestype=:scatter, label=\"Observed Data\", title=\"Bayesian Linear Regression\", xlabel=\"x\", ylabel=\"y\")"
   ]
  },
  {
   "cell_type": "code",
   "execution_count": null,
   "id": "ddf6a70d",
   "metadata": {},
   "outputs": [],
   "source": [
    "model = bayesian_linear_regression(xs)\n",
    "proposal = y -> model # We use the prior as the proposal distribution\n",
    "\n",
    "importance_sampling(model, proposal, y, 1000)"
   ]
  },
  {
   "cell_type": "code",
   "execution_count": null,
   "id": "896dcb61",
   "metadata": {},
   "outputs": [],
   "source": []
  },
  {
   "cell_type": "code",
   "execution_count": null,
   "id": "d45b7bf2",
   "metadata": {},
   "outputs": [],
   "source": []
  },
  {
   "cell_type": "code",
   "execution_count": null,
   "id": "5caee733",
   "metadata": {},
   "outputs": [],
   "source": [
    "s.logweight"
   ]
  }
 ],
 "metadata": {
  "kernelspec": {
   "display_name": "Julia 1.11.7",
   "language": "julia",
   "name": "julia-1.11"
  },
  "language_info": {
   "file_extension": ".jl",
   "mimetype": "application/julia",
   "name": "julia",
   "version": "1.11.7"
  }
 },
 "nbformat": 4,
 "nbformat_minor": 5
}
