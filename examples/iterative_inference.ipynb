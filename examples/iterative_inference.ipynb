{
 "cells": [
  {
   "cell_type": "code",
   "execution_count": 4,
   "id": "fd0f9e41",
   "metadata": {},
   "outputs": [
    {
     "name": "stderr",
     "output_type": "stream",
     "text": [
      "\u001b[32m\u001b[1m  Activating\u001b[22m\u001b[39m project at `~/Documents/code/Pun.jl`\n"
     ]
    },
    {
     "data": {
      "text/plain": [
       "gamma (generic function with 1 method)"
      ]
     },
     "metadata": {},
     "output_type": "display_data"
    }
   ],
   "source": [
    "using Pkg\n",
    "Pkg.activate(\"..\")\n",
    "\n",
    "using Pun\n",
    "using Pun: interpret_program, uninterpret_program, EvalState\n",
    "using Plots\n",
    "\n",
    "include(\"../examples.jl\")"
   ]
  },
  {
   "cell_type": "code",
   "execution_count": 11,
   "id": "abc0c2a7",
   "metadata": {},
   "outputs": [],
   "source": [
    "struct LineModel\n",
    "    slope::Real\n",
    "    intercept::Real\n",
    "    noise::Real\n",
    "end\n",
    "\n",
    "function evaluate(m::LineModel)\n",
    "    return (x) -> @prob begin\n",
    "        y <<= normal(x * m.slope + m.intercept, m.noise)\n",
    "        return y\n",
    "    end\n",
    "end\n",
    "\n",
    "get_noisy_point(x, prob_outlier, line_model) = @prob begin\n",
    "    is_outlier <<= flip(prob_outlier)\n",
    "    y <<= is_outlier ? normal(0, 10)  : evaluate(line_model)(x)\n",
    "    is_outlier >>= flip(prob_outlier)\n",
    "    return y\n",
    "end\n",
    "\n",
    "regression_with_outliers(xs::Vector{<:Real}) = @prob begin\n",
    "    slope <<= normal(0, 2)\n",
    "    intercept <<= normal(0, 2)\n",
    "    noise <<= gamma(1, 1)\n",
    "    line_model .<<= LineModel(slope, intercept, noise)\n",
    "    slope .>>= line_model.slope\n",
    "    intercept .>>= line_model.intercept\n",
    "    noise .>>= line_model.noise\n",
    "    prob_outlier <<= uniform(0, 1)\n",
    "\n",
    "    # Next, we generate the actual y coordinates.\n",
    "    n = length(xs)\n",
    "\n",
    "    ys <<= mapM(x -> get_noisy_point(x, prob_outlier, line_model), xs)\n",
    "    prob_outlier >>= beta(1, 1)\n",
    "    return ys, line_model\n",
    "end;"
   ]
  },
  {
   "cell_type": "code",
   "execution_count": 12,
   "id": "1dbd2de5",
   "metadata": {},
   "outputs": [],
   "source": [
    "xs = [-5., -4., -3., -2., -1., 0., 1., 2., 3., 4., 5.];\n",
    "(ys, line_model), score, basis = simulate(regression_with_outliers(xs));"
   ]
  },
  {
   "cell_type": "code",
   "execution_count": 44,
   "id": "be7b9117",
   "metadata": {},
   "outputs": [],
   "source": [
    "state = EvalState()\n",
    "p = beta(1, 1)\n",
    "val, deps = interpret_program(p, state)\n",
    "uninterpret_program(p, state, val, deps)"
   ]
  },
  {
   "cell_type": "code",
   "execution_count": null,
   "id": "1ba29148",
   "metadata": {},
   "outputs": [],
   "source": [
    "function mh(p, q, y)\n",
    "\n",
    "    # y -> y'\n",
    "    state = EvalState()\n",
    "    state.cfg.n_inputs[] = dim\n",
    "    val, deps = interpret_program(q(y), state)\n",
    "    uninterpret_program(p, state, (val, y), union(deps, Set(1:dim)))\n",
    "    tape_partials = DynamicForwardDiff.Partials[]\n",
    "    accumulate_partials!(state.tape, tape_partials)\n",
    "    Qblk = dictrows_to_sparse(Dict{Int,Float64}[p.values for p in tape_partials], state.cfg.n_inputs[])\n",
    "    correction = logpdet_from_tall(Qblk; tol=1e-14)\n",
    "    weight = state.logweight + correction\n",
    "\n",
    "    # y' -> y\n",
    "    state = EvalState()\n",
    "    state.cfg.n_inputs[] = dim\n",
    "    uninterpret_program(q((val, deps)), state)\n",
    "\n",
    "    accept = minimum(exp(weight), 1)\n",
    "end\n",
    "\n",
    "\n",
    "function block_resimulation_update(tr)\n",
    "    # Block 1: Update the line's parameters\n",
    "    line_params = select(:noise, :slope, :intercept)\n",
    "    (tr, _) = mh(tr, line_params)\n",
    "    \n",
    "    # Blocks 2-N+1: Update the outlier classifications\n",
    "    (xs,) = get_args(tr)\n",
    "    n = length(xs)\n",
    "    for i=1:n\n",
    "        (tr, _) = mh(tr, select(:data => i => :is_outlier))\n",
    "    end\n",
    "    \n",
    "    # Block N+2: Update the prob_outlier parameter\n",
    "    (tr, _) = mh(tr, select(:prob_outlier))\n",
    "    \n",
    "    # Return the updated trace\n",
    "    tr\n",
    "end;\n",
    "\n",
    "function block_resimulation_inference(xs, ys, observations)\n",
    "    observations = make_constraints(ys)\n",
    "    (tr, _) = generate(regression_with_outliers, (xs,), observations)\n",
    "    for iter=1:500\n",
    "        tr = block_resimulation_update(tr)\n",
    "    end\n",
    "    tr\n",
    "end;"
   ]
  }
 ],
 "metadata": {
  "kernelspec": {
   "display_name": "Julia 1.11.7",
   "language": "julia",
   "name": "julia-1.11"
  },
  "language_info": {
   "file_extension": ".jl",
   "mimetype": "application/julia",
   "name": "julia",
   "version": "1.11.7"
  }
 },
 "nbformat": 4,
 "nbformat_minor": 5
}
