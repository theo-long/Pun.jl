{
 "cells": [
  {
   "cell_type": "code",
   "execution_count": 5,
   "id": "cf672da9",
   "metadata": {},
   "outputs": [],
   "source": [
    "using Pun"
   ]
  },
  {
   "cell_type": "code",
   "execution_count": 6,
   "id": "be6c6b2b",
   "metadata": {},
   "outputs": [],
   "source": [
    "struct LinearModel\n",
    "    slope\n",
    "    intercept\n",
    "end\n",
    "\n",
    "# We define a function to compute y for a given x\n",
    "function evaluate_model(model::LinearModel, x::Real)\n",
    "    return model.slope * x + model.intercept\n",
    "end\n",
    "\n",
    "linear_model_prior = @prob begin\n",
    "    # We begin by sampling a slope and intercept for the line.\n",
    "    # Before we have seen the data, we don't know the values of\n",
    "    # these parameters, so we treat them as random choices. The\n",
    "    # distributions they are drawn from represent our prior beliefs\n",
    "    # about the parameters: in this case, that neither the slope nor the\n",
    "    # intercept will be more than a couple points away from 0.\n",
    "    slope <<= normal(0, 1)\n",
    "    intercept <<= normal(0, 2)\n",
    "    return LinearModel(slope, intercept)\n",
    "end\n",
    "\n",
    "line_model(xs; prior=linear_model_prior) = @prob begin\n",
    "    linear_model <<= prior\n",
    "\n",
    "    # Given the slope and intercept, we can sample y coordinates\n",
    "    # for each of the x coordinates in our input vector.\n",
    "    ys <<= mapM(x -> normal(evaluate_model(linear_model, x), 0.1), xs)\n",
    "\n",
    "    return linear_model, ys\n",
    "end;"
   ]
  },
  {
   "cell_type": "code",
   "execution_count": null,
   "id": "c4d8c472",
   "metadata": {},
   "outputs": [
    {
     "data": {
      "text/plain": [
       "maybe_resample (generic function with 2 methods)"
      ]
     },
     "metadata": {},
     "output_type": "display_data"
    }
   ],
   "source": [
    "using LogExpFunctions\n",
    "\n",
    "function effective_sample_size(log_normalized_weights::Vector{Float64})\n",
    "    log_ess = -logsumexp(2. * log_normalized_weights)\n",
    "    return exp(log_ess)\n",
    "end\n",
    "\n",
    "function normalize_weights(log_weights)\n",
    "    log_total_weight = logsumexp(log_weights)\n",
    "    log_normalized_weights = log_weights .- log_total_weight\n",
    "    return (log_total_weight, log_normalized_weights)\n",
    "end\n",
    "\n",
    "function initialize_particle_filter(p, q, y, basis, n)\n",
    "    return importance_sampling(p, q, y, basis, n)\n",
    "end\n",
    "\n",
    "function maybe_resample(particles; ess_threshold=length(particles)/2)\n",
    "    num_particles = length(particles)\n",
    "    weights = getindex.(particles, 2)\n",
    "    log_total_weight, log_normalized_weights = normalize_weights(weights)\n",
    "    ess = effective_sample_size(log_normalized_weights)\n",
    "    do_resample = ess < ess_threshold\n",
    "    if do_resample\n",
    "        weights = exp.(log_normalized_weights)\n",
    "        resampler = @prob begin\n",
    "            index <<= iid(categorical(weights), num_particles)\n",
    "            return index\n",
    "        end\n",
    "        index, _, _ = simulate(resampler)\n",
    "        particles = particles[index]\n",
    "    end\n",
    "    return particles\n",
    "end\n",
    "\n",
    "function particle_filter_step(p, q, y, basis, particles)\n",
    "    new_particles = []\n",
    "    for (particle, weight) in particles\n",
    "        new_particle, new_weight, new_basis = proposal(particle, y)\n",
    "        push!(new_particles, (new_particle, new_weight))\n",
    "    end\n",
    "    # Implicitly assuming everything has the same basis\n",
    "    return new_particles, new_basis\n",
    "end"
   ]
  },
  {
   "cell_type": "code",
   "execution_count": 73,
   "id": "b0c1b7cb",
   "metadata": {},
   "outputs": [
    {
     "data": {
      "text/plain": [
       "100-element Vector{Tuple{Any, Any}}:\n",
       " (LinearModel(-0.8890334989441273, 2.248194656280551), -400.7098206106388)\n",
       " (LinearModel(-0.8890334989441273, 2.248194656280551), -400.7098206106388)\n",
       " (LinearModel(-0.8890334989441273, 2.248194656280551), -400.7098206106388)\n",
       " (LinearModel(-0.8890334989441273, 2.248194656280551), -400.7098206106388)\n",
       " (LinearModel(-0.8890334989441273, 2.248194656280551), -400.7098206106388)\n",
       " (LinearModel(-0.8890334989441273, 2.248194656280551), -400.7098206106388)\n",
       " (LinearModel(-0.8890334989441273, 2.248194656280551), -400.7098206106388)\n",
       " (LinearModel(-0.8890334989441273, 2.248194656280551), -400.7098206106388)\n",
       " (LinearModel(-0.8890334989441273, 2.248194656280551), -400.7098206106388)\n",
       " (LinearModel(-0.8890334989441273, 2.248194656280551), -400.7098206106388)\n",
       " ⋮\n",
       " (LinearModel(-0.8890334989441273, 2.248194656280551), -400.7098206106388)\n",
       " (LinearModel(-0.8890334989441273, 2.248194656280551), -400.7098206106388)\n",
       " (LinearModel(-0.8890334989441273, 2.248194656280551), -400.7098206106388)\n",
       " (LinearModel(-0.8890334989441273, 2.248194656280551), -400.7098206106388)\n",
       " (LinearModel(-0.8890334989441273, 2.248194656280551), -400.7098206106388)\n",
       " (LinearModel(-0.8890334989441273, 2.248194656280551), -400.7098206106388)\n",
       " (LinearModel(-0.8890334989441273, 2.248194656280551), -400.7098206106388)\n",
       " (LinearModel(-0.8890334989441273, 2.248194656280551), -400.7098206106388)\n",
       " (LinearModel(-0.8890334989441273, 2.248194656280551), -400.7098206106388)"
      ]
     },
     "metadata": {},
     "output_type": "display_data"
    }
   ],
   "source": [
    "xs = [-5., -4., -3., -2., -1., 0., 1., 2., 3., 4., 5.];\n",
    "ys = [6.75003, 6.1568, 4.26414, 1.84894, 3.09686, 1.94026, 1.36411, -0.83959, -0.976, -1.93363, -2.91303];\n",
    "_, _, basis = simulate(line_model(xs))\n",
    "weighted_particles = Pun.importance_sampling(line_model(xs), y -> linear_model_prior, ys, basis, 100);\n",
    "resampled = maybe_resample(weighted_particles)"
   ]
  },
  {
   "cell_type": "code",
   "execution_count": 87,
   "id": "59571038",
   "metadata": {},
   "outputs": [
    {
     "data": {
      "text/plain": [
       "smc (generic function with 1 method)"
      ]
     },
     "metadata": {},
     "output_type": "display_data"
    }
   ],
   "source": [
    "function smc(model, xs, ys, n_particles)\n",
    "    _, _, basis = simulate(model(xs[1:1]))\n",
    "    particles = initialize_particle_filter(\n",
    "        model(xs[1:1]), y -> linear_model_prior, basis, n_particles)\n",
    "\n",
    "    # steps\n",
    "    for t = 1:length(zs)-1\n",
    "        particles = maybe_resample(particles, ess_threshold=num_particles / 2)\n",
    "        proposal(particle, y) = @prob begin\n",
    "            (model, ys), _ = particle\n",
    "            new_y <<= normal(evaluate_model(model, xs[t+1]), 0.1)\n",
    "            new_ys .<<= [ys; y]\n",
    "            new_y .>>= new_ys[end]\n",
    "            new_model .<<= model\n",
    "            return new_model, new_ys\n",
    "        end\n",
    "        particle_filter_step(model[1:t], proposal,)\n",
    "    end\n",
    "end"
   ]
  },
  {
   "cell_type": "code",
   "execution_count": null,
   "id": "e6de8bd3",
   "metadata": {},
   "outputs": [],
   "source": []
  }
 ],
 "metadata": {
  "kernelspec": {
   "display_name": "Julia 1.11.7",
   "language": "julia",
   "name": "julia-1.11"
  },
  "language_info": {
   "file_extension": ".jl",
   "mimetype": "application/julia",
   "name": "julia",
   "version": "1.11.7"
  }
 },
 "nbformat": 4,
 "nbformat_minor": 5
}
